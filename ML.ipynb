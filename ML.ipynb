{
 "cells": [
  {
   "cell_type": "markdown",
   "metadata": {},
   "source": [
    "# Supervised Machine Learning Analysis\n",
    "In this section we present source code for using supervised machine learning to predict donations. \n",
    "\n",
    "We will be predicting the direction of change in giving for each of the donors from one year to the next. This will involve Data Cleaning and Shaping, Modeling, and Interpretation. "
   ]
  },
  {
   "cell_type": "markdown",
   "metadata": {},
   "source": [
    "# Data Cleaning and Shaping\n",
    "To use machine learning algorithms, we must have a table of clean data having a row for each donor, a column for the value we are predicting, and additional columns for each variable we are using to predict. \n",
    "\n",
    "In `example.ipynb` we have discussed how to clean the data, so in this notebook we will discuss how to shape it for machine learning analysis.\n",
    "\n",
    "### Shaping\n",
    "We are predicting the direction of change of giving from one year to the next, `delta`. \n",
    "\n",
    "`delta` is calculated by the difference of giving in one year from the year before, divided by the size of that difference."
   ]
  },
  {
   "cell_type": "markdown",
   "metadata": {},
   "source": [
    "Todo:\n",
    "1. Create lagging values in synthetic_data.csv so that we can predict changes in donations year over year\n",
    "2. Follow the method you used in ML2022.ipynb to clean, shape, model, and interpret the data. It needs to follow the structure of the paper exactly. "
   ]
  }
 ],
 "metadata": {
  "kernelspec": {
   "display_name": "base",
   "language": "python",
   "name": "python3"
  },
  "language_info": {
   "codemirror_mode": {
    "name": "ipython",
    "version": 3
   },
   "file_extension": ".py",
   "mimetype": "text/x-python",
   "name": "python",
   "nbconvert_exporter": "python",
   "pygments_lexer": "ipython3",
   "version": "3.11.4"
  }
 },
 "nbformat": 4,
 "nbformat_minor": 2
}
