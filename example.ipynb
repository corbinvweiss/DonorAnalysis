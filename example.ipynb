{
 "cells": [
  {
   "cell_type": "markdown",
   "metadata": {},
   "source": [
    "# Donor Analysis\n",
    "We use data about donors and about their donations to create a picture of the donor-nonprofit relationship. The goal is to understand the effect of the experiences that donors have on their donation habits. "
   ]
  },
  {
   "cell_type": "markdown",
   "metadata": {},
   "source": [
    "# Data Gathering\n",
    "In this first step data about donors are collected. Some important data are appeals donors have received, the demographics of donors, and their donation history. Some good sources for these data are a nonprofit's Customer Relationship Management (CRM) database, donation receipts, and records of appeals sent and responded to. In addition, nonprofits may turn to peoplesearch sites or census census data for additional demographics information. As much as possible, nonprofits should try to get information about individual donors. This will allow the results to be applicable to individuals. \n",
    "\n",
    "In our study with a US-based nonprofit, the nonprofit had a CRM database in a SQL server. We wrote SQL queries to gather data on donation history, volunteer experiences, and also the appeals households had responded to."
   ]
  },
  {
   "cell_type": "code",
   "execution_count": 46,
   "metadata": {
    "vscode": {
     "languageId": "r"
    }
   },
   "outputs": [
    {
     "data": {
      "text/html": [
       "<table class=\"dataframe\">\n",
       "<caption>A data.frame: 6 × 6</caption>\n",
       "<thead>\n",
       "\t<tr><th></th><th scope=col>ID</th><th scope=col>Donations</th><th scope=col>Volunteering</th><th scope=col>Appeal1</th><th scope=col>Appeal2</th><th scope=col>Appeal3</th></tr>\n",
       "\t<tr><th></th><th scope=col>&lt;int&gt;</th><th scope=col>&lt;dbl&gt;</th><th scope=col>&lt;dbl&gt;</th><th scope=col>&lt;dbl&gt;</th><th scope=col>&lt;dbl&gt;</th><th scope=col>&lt;dbl&gt;</th></tr>\n",
       "</thead>\n",
       "<tbody>\n",
       "\t<tr><th scope=row>1</th><td>1</td><td>11137.51</td><td> 3</td><td>0</td><td>0</td><td>0.000000000</td></tr>\n",
       "\t<tr><th scope=row>2</th><td>2</td><td>64737.03</td><td>16</td><td>7</td><td>0</td><td>0.777168650</td></tr>\n",
       "\t<tr><th scope=row>3</th><td>3</td><td> 7140.81</td><td> 2</td><td>1</td><td>0</td><td>0.796440907</td></tr>\n",
       "\t<tr><th scope=row>4</th><td>4</td><td> 8601.00</td><td> 1</td><td>0</td><td>1</td><td>0.374295410</td></tr>\n",
       "\t<tr><th scope=row>5</th><td>5</td><td> 5699.45</td><td> 2</td><td>2</td><td>0</td><td>1.091352021</td></tr>\n",
       "\t<tr><th scope=row>6</th><td>6</td><td>15301.12</td><td> 3</td><td>1</td><td>0</td><td>0.007265313</td></tr>\n",
       "</tbody>\n",
       "</table>\n"
      ],
      "text/latex": [
       "A data.frame: 6 × 6\n",
       "\\begin{tabular}{r|llllll}\n",
       "  & ID & Donations & Volunteering & Appeal1 & Appeal2 & Appeal3\\\\\n",
       "  & <int> & <dbl> & <dbl> & <dbl> & <dbl> & <dbl>\\\\\n",
       "\\hline\n",
       "\t1 & 1 & 11137.51 &  3 & 0 & 0 & 0.000000000\\\\\n",
       "\t2 & 2 & 64737.03 & 16 & 7 & 0 & 0.777168650\\\\\n",
       "\t3 & 3 &  7140.81 &  2 & 1 & 0 & 0.796440907\\\\\n",
       "\t4 & 4 &  8601.00 &  1 & 0 & 1 & 0.374295410\\\\\n",
       "\t5 & 5 &  5699.45 &  2 & 2 & 0 & 1.091352021\\\\\n",
       "\t6 & 6 & 15301.12 &  3 & 1 & 0 & 0.007265313\\\\\n",
       "\\end{tabular}\n"
      ],
      "text/markdown": [
       "\n",
       "A data.frame: 6 × 6\n",
       "\n",
       "| <!--/--> | ID &lt;int&gt; | Donations &lt;dbl&gt; | Volunteering &lt;dbl&gt; | Appeal1 &lt;dbl&gt; | Appeal2 &lt;dbl&gt; | Appeal3 &lt;dbl&gt; |\n",
       "|---|---|---|---|---|---|---|\n",
       "| 1 | 1 | 11137.51 |  3 | 0 | 0 | 0.000000000 |\n",
       "| 2 | 2 | 64737.03 | 16 | 7 | 0 | 0.777168650 |\n",
       "| 3 | 3 |  7140.81 |  2 | 1 | 0 | 0.796440907 |\n",
       "| 4 | 4 |  8601.00 |  1 | 0 | 1 | 0.374295410 |\n",
       "| 5 | 5 |  5699.45 |  2 | 2 | 0 | 1.091352021 |\n",
       "| 6 | 6 | 15301.12 |  3 | 1 | 0 | 0.007265313 |\n",
       "\n"
      ],
      "text/plain": [
       "  ID Donations Volunteering Appeal1 Appeal2 Appeal3    \n",
       "1 1  11137.51   3           0       0       0.000000000\n",
       "2 2  64737.03  16           7       0       0.777168650\n",
       "3 3   7140.81   2           1       0       0.796440907\n",
       "4 4   8601.00   1           0       1       0.374295410\n",
       "5 5   5699.45   2           2       0       1.091352021\n",
       "6 6  15301.12   3           1       0       0.007265313"
      ]
     },
     "metadata": {},
     "output_type": "display_data"
    }
   ],
   "source": [
    "data <- read.csv(\"synthetic_data.csv\")\n",
    "head(data)"
   ]
  },
  {
   "cell_type": "markdown",
   "metadata": {},
   "source": [
    "# Data Cleaning and Shaping\n",
    "Once the data has been gathered, it can be cleaned and shaped. Often data will have missing or meaningless values. These values are dealt with in the data cleanign step. Often records with null values are excluded from the study, or the null values are set to zero. Careful consideration has to be given to this step for the study to produce accurate results.\n",
    "\n",
    "In data shaping, the goal is to create a table which can be used by a modeling algorithm such as Linear Regression or Supervised Machine Learning. The general\n",
    "idea is to have a row for every individual donor, a column for donations, and another column for each variable being used to predict donations, such as various appeals or volunteer experiences or demographics. \n",
    "\n",
    "Some useful tools for this step are R, Tableau Data Prep, and several Python libraries such as Numpy."
   ]
  },
  {
   "cell_type": "code",
   "execution_count": 47,
   "metadata": {
    "vscode": {
     "languageId": "r"
    }
   },
   "outputs": [
    {
     "data": {
      "text/html": [
       "<table class=\"dataframe\">\n",
       "<caption>A data.frame: 6 × 6</caption>\n",
       "<thead>\n",
       "\t<tr><th></th><th scope=col>ID</th><th scope=col>Donations</th><th scope=col>Volunteering</th><th scope=col>Appeal1</th><th scope=col>Appeal2</th><th scope=col>Appeal3</th></tr>\n",
       "\t<tr><th></th><th scope=col>&lt;int&gt;</th><th scope=col>&lt;dbl&gt;</th><th scope=col>&lt;dbl&gt;</th><th scope=col>&lt;dbl&gt;</th><th scope=col>&lt;dbl&gt;</th><th scope=col>&lt;dbl&gt;</th></tr>\n",
       "</thead>\n",
       "<tbody>\n",
       "\t<tr><th scope=row>1</th><td>1</td><td>11137.51</td><td> 3</td><td>0</td><td>0</td><td>0.00</td></tr>\n",
       "\t<tr><th scope=row>2</th><td>2</td><td>64737.03</td><td>16</td><td>7</td><td>0</td><td>0.78</td></tr>\n",
       "\t<tr><th scope=row>3</th><td>3</td><td> 7140.81</td><td> 2</td><td>1</td><td>0</td><td>0.80</td></tr>\n",
       "\t<tr><th scope=row>4</th><td>4</td><td> 8601.00</td><td> 1</td><td>0</td><td>1</td><td>0.37</td></tr>\n",
       "\t<tr><th scope=row>5</th><td>5</td><td> 5699.45</td><td> 2</td><td>2</td><td>0</td><td>1.09</td></tr>\n",
       "\t<tr><th scope=row>6</th><td>6</td><td>15301.12</td><td> 3</td><td>1</td><td>0</td><td>0.01</td></tr>\n",
       "</tbody>\n",
       "</table>\n"
      ],
      "text/latex": [
       "A data.frame: 6 × 6\n",
       "\\begin{tabular}{r|llllll}\n",
       "  & ID & Donations & Volunteering & Appeal1 & Appeal2 & Appeal3\\\\\n",
       "  & <int> & <dbl> & <dbl> & <dbl> & <dbl> & <dbl>\\\\\n",
       "\\hline\n",
       "\t1 & 1 & 11137.51 &  3 & 0 & 0 & 0.00\\\\\n",
       "\t2 & 2 & 64737.03 & 16 & 7 & 0 & 0.78\\\\\n",
       "\t3 & 3 &  7140.81 &  2 & 1 & 0 & 0.80\\\\\n",
       "\t4 & 4 &  8601.00 &  1 & 0 & 1 & 0.37\\\\\n",
       "\t5 & 5 &  5699.45 &  2 & 2 & 0 & 1.09\\\\\n",
       "\t6 & 6 & 15301.12 &  3 & 1 & 0 & 0.01\\\\\n",
       "\\end{tabular}\n"
      ],
      "text/markdown": [
       "\n",
       "A data.frame: 6 × 6\n",
       "\n",
       "| <!--/--> | ID &lt;int&gt; | Donations &lt;dbl&gt; | Volunteering &lt;dbl&gt; | Appeal1 &lt;dbl&gt; | Appeal2 &lt;dbl&gt; | Appeal3 &lt;dbl&gt; |\n",
       "|---|---|---|---|---|---|---|\n",
       "| 1 | 1 | 11137.51 |  3 | 0 | 0 | 0.00 |\n",
       "| 2 | 2 | 64737.03 | 16 | 7 | 0 | 0.78 |\n",
       "| 3 | 3 |  7140.81 |  2 | 1 | 0 | 0.80 |\n",
       "| 4 | 4 |  8601.00 |  1 | 0 | 1 | 0.37 |\n",
       "| 5 | 5 |  5699.45 |  2 | 2 | 0 | 1.09 |\n",
       "| 6 | 6 | 15301.12 |  3 | 1 | 0 | 0.01 |\n",
       "\n"
      ],
      "text/plain": [
       "  ID Donations Volunteering Appeal1 Appeal2 Appeal3\n",
       "1 1  11137.51   3           0       0       0.00   \n",
       "2 2  64737.03  16           7       0       0.78   \n",
       "3 3   7140.81   2           1       0       0.80   \n",
       "4 4   8601.00   1           0       1       0.37   \n",
       "5 5   5699.45   2           2       0       1.09   \n",
       "6 6  15301.12   3           1       0       0.01   "
      ]
     },
     "metadata": {},
     "output_type": "display_data"
    }
   ],
   "source": [
    "# Here Appeal3 has too many digits, so we will use R's builtin libraries to truncate it\n",
    "data$Appeal3 = round(data$Appeal3, digits=2)\n",
    "head(data)"
   ]
  },
  {
   "cell_type": "code",
   "execution_count": 48,
   "metadata": {
    "vscode": {
     "languageId": "r"
    }
   },
   "outputs": [
    {
     "data": {
      "text/html": [
       "5000"
      ],
      "text/latex": [
       "5000"
      ],
      "text/markdown": [
       "5000"
      ],
      "text/plain": [
       "[1] 5000"
      ]
     },
     "metadata": {},
     "output_type": "display_data"
    },
    {
     "data": {
      "text/html": [
       "4994"
      ],
      "text/latex": [
       "4994"
      ],
      "text/markdown": [
       "4994"
      ],
      "text/plain": [
       "[1] 4994"
      ]
     },
     "metadata": {},
     "output_type": "display_data"
    }
   ],
   "source": [
    "# We also want to restrict our study to donors\n",
    "donors <- data[data$Donations > 0, ]\n",
    "nrow(data)\n",
    "nrow(donors)"
   ]
  },
  {
   "cell_type": "markdown",
   "metadata": {},
   "source": [
    "# Modeling\n",
    "Once the data is in the proper shape and has no null values, it can be used for modeling. The goal of modeling is to get a picture of how various factors affect donations. The simplest modeling tool is Linear Regression. Nonprofits may also use supervised machine learning tools, demonstrated in another notebook"
   ]
  },
  {
   "cell_type": "code",
   "execution_count": 49,
   "metadata": {
    "vscode": {
     "languageId": "r"
    }
   },
   "outputs": [
    {
     "data": {
      "text/plain": [
       "\n",
       "Call:\n",
       "lm(formula = Donations ~ Volunteering + Appeal1 + Appeal2 + Appeal3, \n",
       "    data = data)\n",
       "\n",
       "Residuals:\n",
       "     Min       1Q   Median       3Q      Max \n",
       "-11564.4  -1914.7    121.2   1848.3  12145.8 \n",
       "\n",
       "Coefficients:\n",
       "             Estimate Std. Error t value Pr(>|t|)    \n",
       "(Intercept)   305.467     85.108   3.589 0.000335 ***\n",
       "Volunteering 3372.980     22.995 146.683  < 2e-16 ***\n",
       "Appeal1      1409.754     52.862  26.669  < 2e-16 ***\n",
       "Appeal2      -603.933     96.248  -6.275  3.8e-10 ***\n",
       "Appeal3         5.755     51.889   0.111 0.911697    \n",
       "---\n",
       "Signif. codes:  0 ‘***’ 0.001 ‘**’ 0.01 ‘*’ 0.05 ‘.’ 0.1 ‘ ’ 1\n",
       "\n",
       "Residual standard error: 3236 on 4995 degrees of freedom\n",
       "Multiple R-squared:  0.9528,\tAdjusted R-squared:  0.9528 \n",
       "F-statistic: 2.523e+04 on 4 and 4995 DF,  p-value: < 2.2e-16\n"
      ]
     },
     "metadata": {},
     "output_type": "display_data"
    }
   ],
   "source": [
    "model <- lm(Donations ~ Volunteering + Appeal1 + Appeal2 + Appeal3, data)\n",
    "summary(model)"
   ]
  },
  {
   "cell_type": "markdown",
   "metadata": {},
   "source": [
    "# Interpretation\n",
    "In the interpretation step we consider the meaning of the results of the models. In this example we see that Volunteering, Appeal1, and Appeal2 are all very strong predictors of donations, as evidenced by the `***` symbol to the right of their values. On the other hand, Appeal3 is no statistically significant, so should not be considered as a predictor variable. \n",
    "\n",
    "In the Estimate column we see that volunteering has a strong positive correlation with donations, as does Appeal1, but Appeal2 has a strong negative correlation. With these correlations, the nonprofit may decide to discontinue Appeal3, and focus their efforts on encouraging their donors to volunteer."
   ]
  }
 ],
 "metadata": {
  "kernelspec": {
   "display_name": "R",
   "language": "R",
   "name": "ir"
  },
  "language_info": {
   "codemirror_mode": "r",
   "file_extension": ".r",
   "mimetype": "text/x-r-source",
   "name": "R",
   "pygments_lexer": "r",
   "version": "4.3.1"
  }
 },
 "nbformat": 4,
 "nbformat_minor": 2
}
